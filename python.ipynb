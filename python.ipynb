{
 "cells": [
  {
   "cell_type": "code",
   "execution_count": null,
   "metadata": {},
   "outputs": [],
   "source": [
    "print('another hello world')"
   ]
  },
  {
   "cell_type": "code",
   "execution_count": null,
   "metadata": {},
   "outputs": [],
   "source": [
    "class Dog:  \n",
    "\n",
    "    # A simple class \n",
    "    # attribute \n",
    "    attr1 = \"mammal\"\n",
    "    attr2 = \"dog\"\n",
    "\n",
    "    # init method or constructor   \n",
    "    def __init__(self, name):  \n",
    "        self.name = name  \n",
    "\n",
    "    # A sample method   \n",
    "    def fun(self):  \n",
    "        print(\"I'm a\", self.attr1) \n",
    "        print(\"I'm a\", self.attr2) \n",
    "        print(\"My name is\", self.name) \n",
    "\n",
    "# Driver code \n",
    "# Object instantiation \n",
    "first_dog = Dog('Justin') \n",
    "\n",
    "# Accessing class attributes \n",
    "# and method through objects \n",
    "print(first_dog.attr1) \n",
    "first_dog.fun()"
   ]
  }
 ],
 "metadata": {
  "language_info": {
   "name": "python"
  },
  "orig_nbformat": 4
 },
 "nbformat": 4,
 "nbformat_minor": 2
}
